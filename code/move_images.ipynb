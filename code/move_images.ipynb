{
 "cells": [
  {
   "cell_type": "code",
   "execution_count": null,
   "id": "82c9df06",
   "metadata": {},
   "outputs": [],
   "source": [
    "import os\n",
    "import numpy as np\n",
    "from skimage.io import imread, imread_collection\n",
    "from skimage.transform import resize\n",
    "from sklearn.model_selection import train_test_split"
   ]
  },
  {
   "cell_type": "markdown",
   "id": "8a85df14",
   "metadata": {},
   "source": [
    "<h1>Segment images into different classifications</h1>"
   ]
  },
  {
   "cell_type": "code",
   "execution_count": null,
   "id": "73197813",
   "metadata": {},
   "outputs": [],
   "source": [
    "#Size to crop images to (Only do, 128x128, 224x224, or 256x256)\n",
    "img_size = (256, 256)\n",
    "DATA_PATH = \"../data/all\"\n",
    "\n",
    "healthy_images = imread_collection(f\"{DATA_PATH}/NORMAL/*.jpeg\")\n",
    "\n",
    "#Crop all images to standard size for training, and add array of labels (0=Normal, 1=Virus, 2=Bacteria)\n",
    "X = [resize(img, img_size) for img in healthy_images]\n",
    "Y = [0] * len(X)\n",
    "\n",
    "#Get all sick images, resize, and classify\n",
    "for file_name in os.listdir(f\"{DATA_PATH}/PNEUMONIA\"):\n",
    "    path = os.path.join(f\"{DATA_PATH}/PNEUMONIA\", file_name)\n",
    "    img = resize(imread(path), img_size)\n",
    "    X.append(img)\n",
    "\n",
    "    if \"virus\" in file_name:\n",
    "        Y.append(1)\n",
    "    elif \"bacteria\" in file_name:\n",
    "        Y.append(2)\n",
    "\n",
    "#Numpy array are very slow at appends, so convert it after modification\n",
    "X = np.array(X, dtype=np.float32)\n",
    "Y = np.array(Y)\n",
    "\n",
    "X_train, X_test, Y_train, Y_test = train_test_split(\n",
    "    X, Y, test_size=0.25, random_state=69\n",
    ")\n",
    "\n",
    "X_train, X_val, Y_train, Y_val = train_test_split(\n",
    "    X_train, Y_train, test_size=0.20, random_state=69\n",
    ")\n"
   ]
  },
  {
   "cell_type": "markdown",
   "id": "20844d3d",
   "metadata": {},
   "source": [
    "<h1>Preprocess the data</h1>"
   ]
  },
  {
   "cell_type": "code",
   "execution_count": null,
   "id": "4e3be437",
   "metadata": {},
   "outputs": [
    {
     "data": {
      "text/plain": [
       "(1583, 256, 256)"
      ]
     },
     "execution_count": 18,
     "metadata": {},
     "output_type": "execute_result"
    }
   ],
   "source": []
  }
 ],
 "metadata": {
  "kernelspec": {
   "display_name": ".venv",
   "language": "python",
   "name": "python3"
  },
  "language_info": {
   "codemirror_mode": {
    "name": "ipython",
    "version": 3
   },
   "file_extension": ".py",
   "mimetype": "text/x-python",
   "name": "python",
   "nbconvert_exporter": "python",
   "pygments_lexer": "ipython3",
   "version": "3.11.9"
  }
 },
 "nbformat": 4,
 "nbformat_minor": 5
}
